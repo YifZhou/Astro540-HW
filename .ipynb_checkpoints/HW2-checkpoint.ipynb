{
 "metadata": {
  "name": "",
  "signature": "sha256:c5b56101f1e22538a4bbaee02133fa7d17e5dcf12aac6916bf9fe49471294329"
 },
 "nbformat": 3,
 "nbformat_minor": 0,
 "worksheets": [
  {
   "cells": [
    {
     "cell_type": "code",
     "collapsed": false,
     "input": [
      "import numpy as np\n",
      "import astropy.constants as const\n",
      "import astropy.units as u"
     ],
     "language": "python",
     "metadata": {
      "run_control": {
       "breakpoint": false
      }
     },
     "outputs": [],
     "prompt_number": 1
    },
    {
     "cell_type": "markdown",
     "metadata": {},
     "source": [
      "## Problem 2"
     ]
    },
    {
     "cell_type": "code",
     "collapsed": false,
     "input": [
      "d = 780 * u.pc\n",
      "r = d * (1 * u.arcsec).to(u.rad).value\n",
      "print 'r = ', r\n",
      "\n",
      "v = np.sqrt((150 * u.km/u.s)**2 * 3)\n",
      "M = r * v**2/ const.G\n",
      "\n",
      "print 'mass = ', M.to(u.M_sun)\n",
      "\n",
      "L = 3e6 * u.L_sun\n",
      "\n",
      "print 'M/L = ', (M/L).to(u.M_sun/u.L_sun)"
     ],
     "language": "python",
     "metadata": {
      "run_control": {
       "breakpoint": false
      }
     },
     "outputs": [
      {
       "output_type": "stream",
       "stream": "stdout",
       "text": [
        "r =  0.00378154671265 pc\n",
        "mass =  59332.3267259 solMass\n",
        "M/L =  0.019777442242 solMass / solLum\n"
       ]
      }
     ],
     "prompt_number": 12
    },
    {
     "cell_type": "markdown",
     "metadata": {},
     "source": [
      "### two body relaxation time"
     ]
    },
    {
     "cell_type": "code",
     "collapsed": false,
     "input": [
      "print v"
     ],
     "language": "python",
     "metadata": {
      "run_control": {
       "breakpoint": false
      }
     },
     "outputs": [
      {
       "output_type": "stream",
       "stream": "stdout",
       "text": [
        "259.807621135 km / s\n"
       ]
      }
     ],
     "prompt_number": 13
    },
    {
     "cell_type": "code",
     "collapsed": false,
     "input": [
      "r_a = np.sqrt(90/29.8 * 1/(1e3 * u.pc**(-3)) * M/const.M_sun * 1/r)"
     ],
     "language": "python",
     "metadata": {
      "run_control": {
       "breakpoint": false
      }
     },
     "outputs": [],
     "prompt_number": 14
    },
    {
     "cell_type": "code",
     "collapsed": false,
     "input": [
      "print r_a.to(u.pc)"
     ],
     "language": "python",
     "metadata": {
      "run_control": {
       "breakpoint": false
      }
     },
     "outputs": [
      {
       "output_type": "stream",
       "stream": "stdout",
       "text": [
        "217.6827813 pc\n"
       ]
      }
     ],
     "prompt_number": 17
    },
    {
     "cell_type": "markdown",
     "metadata": {},
     "source": [
      "### core collapse"
     ]
    },
    {
     "cell_type": "code",
     "collapsed": false,
     "input": [
      "r_b = 4 * 1e10 * u.yr / np.pi * np.sqrt(const.G * M / (2 * r))\n",
      "print r_b.to(u.pc)"
     ],
     "language": "python",
     "metadata": {
      "run_control": {
       "breakpoint": false
      }
     },
     "outputs": [
      {
       "output_type": "stream",
       "stream": "stdout",
       "text": [
        "2392216.21103 pc\n"
       ]
      }
     ],
     "prompt_number": 18
    },
    {
     "cell_type": "markdown",
     "metadata": {},
     "source": [
      "### strong encounter"
     ]
    },
    {
     "cell_type": "code",
     "collapsed": false,
     "input": [
      "n0 = M.to(u.M_sun).value/r**3\n",
      "t0 = 1e10 * u.yr\n",
      "r_c = r * const.R_sun * np.sqrt(n0 * t0 * v * np.pi)\n",
      "print r_c.to(u.pc)\n"
     ],
     "language": "python",
     "metadata": {
      "run_control": {
       "breakpoint": false
      }
     },
     "outputs": [
      {
       "output_type": "stream",
       "stream": "stdout",
       "text": [
        "0.257952730933 pc\n"
       ]
      }
     ],
     "prompt_number": 27
    },
    {
     "cell_type": "code",
     "collapsed": false,
     "input": [],
     "language": "python",
     "metadata": {
      "run_control": {
       "breakpoint": false
      }
     },
     "outputs": []
    }
   ],
   "metadata": {}
  }
 ]
}