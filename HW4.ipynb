{
 "metadata": {
  "name": "",
  "signature": "sha256:968afb6d101f059a1c3721bed87a8e06e57d29715fbc1278bc2777c0a5bdb92c"
 },
 "nbformat": 3,
 "nbformat_minor": 0,
 "worksheets": [
  {
   "cells": [
    {
     "cell_type": "code",
     "collapsed": false,
     "input": [
      "import astropy.constants as const\n",
      "import astropy.units as u\n",
      "from __future__ import  division"
     ],
     "language": "python",
     "metadata": {},
     "outputs": [],
     "prompt_number": 2
    },
    {
     "cell_type": "code",
     "collapsed": false,
     "input": [
      "def Sigma(R):\n",
      "    return 2.6e8 * np.exp(-R/3.5)\n",
      "\n",
      "lam0 = 9/16 * np.pi**2 * const.G * Sigma(8) * (u.M_sun * u.kpc**(-2)) * (8 * u.kpc)**2/(200 * u.km/u.s)**2\n",
      "lam0 = lam0.to(u.pc)\n",
      "lamMax = lam0 /(1 - np.sqrt(7/16))\n",
      "lamMin = lam0 /(1 + np.sqrt(7/16))\n",
      "print lamMax, lamMin"
     ],
     "language": "python",
     "metadata": {
      "run_control": {
       "breakpoint": false
      }
     },
     "outputs": [
      {
       "output_type": "stream",
       "stream": "stdout",
       "text": [
        "2984.59860438 pc 608.191392936 pc\n"
       ]
      }
     ],
     "prompt_number": 11
    },
    {
     "cell_type": "code",
     "collapsed": false,
     "input": [
      "l"
     ],
     "language": "python",
     "metadata": {
      "run_control": {
       "breakpoint": false
      }
     },
     "outputs": [
      {
       "latex": [
        "$1010.47 \\; \\mathrm{pc}$"
       ],
       "metadata": {},
       "output_type": "pyout",
       "prompt_number": 10,
       "text": [
        "<Quantity 1010.4721867452236 pc>"
       ]
      }
     ],
     "prompt_number": 10
    },
    {
     "cell_type": "code",
     "collapsed": false,
     "input": [
      "Vs = 3/(4 * np.sqrt(2)) * np.pi * const.G * Sigma(8) * (u.M_sun * u.kpc**(-2)) * 8 * u.kpc / (200 * u.km/u.s)\n",
      "kappa = np.sqrt(2) * (200 * u.km/u.s) / (8 * u.kpc)\n",
      "k = 2 * np.pi / (500 * u.pc)\n",
      "omega = Vs**2 * k**2 - 2 * np.pi * const.G * Sigma(8) * (u.M_sun * u.kpc**(-2)) * k + kappa**2"
     ],
     "language": "python",
     "metadata": {
      "run_control": {
       "breakpoint": false
      }
     },
     "outputs": [],
     "prompt_number": 17
    },
    {
     "cell_type": "code",
     "collapsed": false,
     "input": [
      "print np.sqrt(omega).to(1/u.s)"
     ],
     "language": "python",
     "metadata": {
      "run_control": {
       "breakpoint": false
      }
     },
     "outputs": [
      {
       "output_type": "stream",
       "stream": "stdout",
       "text": [
        "1.18811623832e-15 1 / s\n"
       ]
      }
     ],
     "prompt_number": 19
    },
    {
     "cell_type": "code",
     "collapsed": false,
     "input": [],
     "language": "python",
     "metadata": {
      "run_control": {
       "breakpoint": false
      }
     },
     "outputs": []
    }
   ],
   "metadata": {}
  }
 ]
}