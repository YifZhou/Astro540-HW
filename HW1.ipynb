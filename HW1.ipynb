{
 "metadata": {
  "name": "",
  "signature": "sha256:6684741069b7aa8743e21f2d8915e6c36808d3e01df654bc83a449166ad2a256"
 },
 "nbformat": 3,
 "nbformat_minor": 0,
 "worksheets": [
  {
   "cells": [
    {
     "cell_type": "code",
     "collapsed": false,
     "input": [
      "import astropy\n",
      "from astropy.coordinates.angles import Angle\n",
      "import astropy.units as u"
     ],
     "language": "python",
     "metadata": {},
     "outputs": [],
     "prompt_number": 3
    },
    {
     "cell_type": "markdown",
     "metadata": {},
     "source": [
      "# Problem 1"
     ]
    },
    {
     "cell_type": "code",
     "collapsed": false,
     "input": [
      "dec = Angle('42d57m')\n",
      "mu_ra = -0.0374 / u.a\n",
      "mu_dec = 1.21 / u.a\n",
      "mu = np.sqrt(mu_dec**2 + np.cos(dec)**2 * mu_ra**2)\n",
      "print mu"
     ],
     "language": "python",
     "metadata": {},
     "outputs": [
      {
       "output_type": "stream",
       "stream": "stdout",
       "text": [
        "1.21030962315 1 / a\n"
       ]
      }
     ],
     "prompt_number": 24
    },
    {
     "cell_type": "code",
     "collapsed": false,
     "input": [
      "dis = 1 / 0.376 * u.pc\n",
      "print dis\n",
      "v_t = dis * mu * Angle('0d0m1s').rad\n",
      "\n",
      "kms = u.km / u.s\n",
      "v_r = 7.6 * kms\n",
      "v = np.sqrt(v_t**2 + v_r**2)\n",
      "print v_t.to(kms),v.to(kms)\n"
     ],
     "language": "python",
     "metadata": {},
     "outputs": [
      {
       "output_type": "stream",
       "stream": "stdout",
       "text": [
        "2.65957446809 pc\n",
        "15.2591410112 km / s 17.0470344752 km / s\n"
       ]
      }
     ],
     "prompt_number": 104
    },
    {
     "cell_type": "code",
     "collapsed": false,
     "input": [
      "dis0 = dis * v_t / v\n",
      "mu0 = v / dis0 #(rad / s)\n",
      "#print mu0\n",
      "mu0 = (mu0 * 206265).to(1 / u.a)\n",
      "\n",
      "\n",
      "print dis0, mu0"
     ],
     "language": "python",
     "metadata": {},
     "outputs": [
      {
       "output_type": "stream",
       "stream": "stdout",
       "text": [
        "7.32333429625e-06 1 / a\n",
        "2.3806382217 pc 1.51054754862 1 / a\n"
       ]
      }
     ],
     "prompt_number": 107
    },
    {
     "cell_type": "code",
     "collapsed": false,
     "input": [
      "print 1 / Angle('1s').rad"
     ],
     "language": "python",
     "metadata": {},
     "outputs": [
      {
       "output_type": "stream",
       "stream": "stdout",
       "text": [
        "206264.806247\n"
       ]
      }
     ],
     "prompt_number": 36
    },
    {
     "cell_type": "markdown",
     "metadata": {},
     "source": [
      "# Problem 2"
     ]
    },
    {
     "cell_type": "code",
     "collapsed": false,
     "input": [
      "ra1 = Angle('11h9m')\n",
      "dec1 = Angle('-7d')\n",
      "\n",
      "print ra1.deg, dec1.deg"
     ],
     "language": "python",
     "metadata": {},
     "outputs": [
      {
       "output_type": "stream",
       "stream": "stdout",
       "text": [
        "167.25 -7.0\n"
       ]
      }
     ],
     "prompt_number": 40
    },
    {
     "cell_type": "code",
     "collapsed": false,
     "input": [
      "from astropy.coordinates import SkyCoord\n",
      "v0_sun = SkyCoord('galactic', l = '-90d', b = '0d')\n",
      "\n",
      "\n",
      "v_cmb_abs = 3.36e-3 / 2.73 * 3e5\n",
      "\n",
      "\n",
      "#v_sun = SkyCoord('galactic', l = '58.87d', b = '17.72d', distance = 220 * u.pc)\n",
      "\n",
      "v_sun = SkyCoord('galactic', l = '90.0d', b = '0d', distance = 220 * u.pc)\n",
      "v_cmb = SkyCoord('icrs', ra = '11h9m', dec = '-7d', distance = v_cmb_abs * u.pc)\n",
      "\n",
      "\n",
      "v_sun = v_sun.icrs\n",
      "print v_cmb.galactic\n",
      "v_cmb.representation = 'cartesian'\n",
      "v_sun.representation = 'cartesian'\n",
      "print v_cmb, v_sun\n",
      "v_mw = SkyCoord(x = v_cmb.x - v_sun.x, y = v_cmb.y - v_sun.y, z = v_cmb.z - v_sun.z, frame = 'icrs', representation = 'cartesian')\n",
      "v_mw.representation = 'spherical'\n",
      "print v_mw\n",
      "v_mw_gl = v_mw.galactic\n",
      "print v_mw_gl\n",
      "v_mw_gl.representation = 'cartesian'\n",
      "print v_mw_gl"
     ],
     "language": "python",
     "metadata": {},
     "outputs": [
      {
       "output_type": "stream",
       "stream": "stdout",
       "text": [
        "<SkyCoord (Galactic): l=263.223148577 deg, b=47.8169292719 deg, distance=369.230769231 pc>\n",
        "<SkyCoord (ICRS): x=-357.442067724 pc, y=80.8808823905 pc, z=-44.9979114111 pc> <SkyCoord (ICRS): x=108.704341965 pc, y=-97.8627067941 pc, z=164.33580455 pc>\n",
        "<SkyCoord (ICRS): ra=159.020705667 deg, dec=-22.7484889768 deg, distance=541.352334971 pc>\n",
        "<SkyCoord (Galactic): l=266.409027363 deg, b=30.3581114483 deg, distance=541.352334971 pc>\n",
        "<SkyCoord (Galactic): w=-29.257501091 pc, u=-466.206794618 pc, v=273.601121819 pc>\n"
       ]
      }
     ],
     "prompt_number": 100
    },
    {
     "cell_type": "markdown",
     "metadata": {},
     "source": [
      "# Problem 3"
     ]
    },
    {
     "cell_type": "code",
     "collapsed": false,
     "input": [
      "m_sun = 5.48\n",
      "m_disk = m_sun - 2.5 * np.log10(1.2e10)\n",
      "m_bulge = m_sun - 2.5 * np.log10(1.9e9)\n",
      "\n",
      "print m_disk, m_bulge"
     ],
     "language": "python",
     "metadata": {},
     "outputs": [
      {
       "output_type": "stream",
       "stream": "stdout",
       "text": [
        "-19.7179531151 -17.7168840024\n"
       ]
      }
     ],
     "prompt_number": 43
    },
    {
     "cell_type": "code",
     "collapsed": false,
     "input": [
      "l = 1208 * np.exp(-8./ 2.7)\n",
      "print 'luminosity dentsity : {0:.2f}'.format(l)"
     ],
     "language": "python",
     "metadata": {},
     "outputs": [
      {
       "output_type": "stream",
       "stream": "stdout",
       "text": [
        "luminosity dentsity : 62.41\n"
       ]
      }
     ],
     "prompt_number": 45
    },
    {
     "cell_type": "code",
     "collapsed": false,
     "input": [
      "mgsec = 206205**2/100\n",
      "print mgsec"
     ],
     "language": "python",
     "metadata": {},
     "outputs": [
      {
       "output_type": "stream",
       "stream": "stdout",
       "text": [
        "425205020\n"
       ]
      }
     ],
     "prompt_number": 47
    },
    {
     "cell_type": "code",
     "collapsed": false,
     "input": [
      "mu_k = 3.8 - 2.5 * np.log10(l / mgsec)\n",
      "print mu_k"
     ],
     "language": "python",
     "metadata": {},
     "outputs": [
      {
       "output_type": "stream",
       "stream": "stdout",
       "text": [
        "20.8833247845\n"
       ]
      }
     ],
     "prompt_number": 49
    },
    {
     "cell_type": "markdown",
     "metadata": {},
     "source": [
      "# Problem 4"
     ]
    },
    {
     "cell_type": "code",
     "collapsed": false,
     "input": [
      "nf = 10 ** (-(5.1 - 24.0) / 2.5)\n",
      "print nf"
     ],
     "language": "python",
     "metadata": {},
     "outputs": [
      {
       "output_type": "stream",
       "stream": "stdout",
       "text": [
        "36307805.477\n"
       ]
      }
     ],
     "prompt_number": 51
    },
    {
     "cell_type": "code",
     "collapsed": false,
     "input": [
      "dis = 10 * np.sqrt(nf)\n",
      "print dis"
     ],
     "language": "python",
     "metadata": {},
     "outputs": [
      {
       "output_type": "stream",
       "stream": "stdout",
       "text": [
        "60255.9586074\n"
       ]
      }
     ],
     "prompt_number": 52
    },
    {
     "cell_type": "code",
     "collapsed": false,
     "input": [
      "n_frac = 0.1 * 20**(-3.5)/np.exp(-20)\n",
      "print n_frac\n",
      "print n_frac/(1+n_frac)"
     ],
     "language": "python",
     "metadata": {},
     "outputs": [
      {
       "output_type": "stream",
       "stream": "stdout",
       "text": [
        "1356.07794657\n",
        "0.999263122651\n"
       ]
      }
     ],
     "prompt_number": 54
    },
    {
     "cell_type": "code",
     "collapsed": false,
     "input": [
      "n_frac0 = 0.1 * (8. / 3.)**(-3.5) / np.exp(8. / 3.)\n",
      "print n_frac0\n",
      "print n_frac0/(1 + n_frac0)"
     ],
     "language": "python",
     "metadata": {},
     "outputs": [
      {
       "output_type": "stream",
       "stream": "stdout",
       "text": [
        "0.000224383448668\n",
        "0.00022433311203\n"
       ]
      }
     ],
     "prompt_number": 56
    },
    {
     "cell_type": "code",
     "collapsed": false,
     "input": [
      "from scipy.optimize import newton\n",
      "def m_func(d):\n",
      "    return 5.1 - 2.5 * np.log10(0.0001 / d**2) + 1.65 * d - 24.0\n",
      "\n",
      "d0 = newton(m_func, 50)\n",
      "print d0"
     ],
     "language": "python",
     "metadata": {},
     "outputs": [
      {
       "output_type": "stream",
       "stream": "stdout",
       "text": [
        "3.67944686255\n"
       ]
      }
     ],
     "prompt_number": 59
    },
    {
     "cell_type": "code",
     "collapsed": false,
     "input": [],
     "language": "python",
     "metadata": {},
     "outputs": []
    }
   ],
   "metadata": {}
  }
 ]
}